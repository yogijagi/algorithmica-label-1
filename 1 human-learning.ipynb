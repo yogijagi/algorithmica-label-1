{
 "cells": [
  {
   "cell_type": "code",
   "execution_count": 2,
   "id": "c6ea3588-f883-4019-af4f-8fa100ef461e",
   "metadata": {},
   "outputs": [
    {
     "name": "stdout",
     "output_type": "stream",
     "text": [
      "yogendra\n"
     ]
    }
   ],
   "source": [
    "print(\"yogendra\")"
   ]
  },
  {
   "cell_type": "code",
   "execution_count": null,
   "id": "32f8a6f7-bb93-4916-9773-9cf45ba56766",
   "metadata": {},
   "outputs": [],
   "source": [
    "print(\"hello\")"
   ]
  }
 ],
 "metadata": {
  "kernelspec": {
   "display_name": "Python 3 (ipykernel)",
   "language": "python",
   "name": "python3"
  },
  "language_info": {
   "codemirror_mode": {
    "name": "ipython",
    "version": 3
   },
   "file_extension": ".py",
   "mimetype": "text/x-python",
   "name": "python",
   "nbconvert_exporter": "python",
   "pygments_lexer": "ipython3",
   "version": "3.11.7"
  }
 },
 "nbformat": 4,
 "nbformat_minor": 5
}
